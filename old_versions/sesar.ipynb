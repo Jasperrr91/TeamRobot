{
 "cells": [
  {
   "cell_type": "code",
   "execution_count": 8,
   "metadata": {
    "collapsed": false
   },
   "outputs": [],
   "source": [
    "import spacy\n",
    "import json\n",
    "import sys\n",
    "import os\n",
    "import IPython\n",
    "from ipywidgets import widgets\n",
    "from IPython.display import display\n",
    "import readability \n",
    "import spotlight"
   ]
  },
  {
   "cell_type": "code",
   "execution_count": 9,
   "metadata": {
    "collapsed": false
   },
   "outputs": [],
   "source": [
    "nlp = spacy.load('en')   "
   ]
  },
  {
   "cell_type": "code",
   "execution_count": 10,
   "metadata": {
    "collapsed": false
   },
   "outputs": [],
   "source": [
    "def select_metadata():\n",
    "    global metadata\n",
    "    metadata = str(sys.argv[1:])\n",
    "    if \"-f\" in metadata:\n",
    "        metadata = filename_widget.value\n",
    "        print(metadata)\n",
    "    else:\n",
    "        filename_clean = metadata.replace(\"[\",\"\")\n",
    "        filename_cleaner = filename_clean.replace(\"'\",\"\")\n",
    "        metadata = filename_cleaner.replace(\"]\",\"\")\n",
    "        return metadata    "
   ]
  },
  {
   "cell_type": "code",
   "execution_count": 11,
   "metadata": {
    "collapsed": false
   },
   "outputs": [],
   "source": [
    "#FUNCTION A: creates a text input from an argument which has to be typed in the following form:\n",
    "#################  \"Hello, this is a new sentence. And this is a newer one\"\n",
    "def select_text_input():\n",
    "    global text_for_pipeline\n",
    "    text_from_commandline = str(sys.argv[2:])\n",
    "    if \"/\" in text_from_commandline:\n",
    "        text_for_pipeline = text_widget.value\n",
    "        #print(text_for_pipeline)\n",
    "    elif text_from_commandline:\n",
    "        text_clean = text_from_commandline.replace(\"[\",\"\")\n",
    "        text_cleaner = text_clean.replace(\"'\",\"\")\n",
    "        text_for_pipeline = text_cleaner.replace(\"]\",\"\")\n",
    "        return text_for_pipeline"
   ]
  },
  {
   "cell_type": "code",
   "execution_count": 12,
   "metadata": {
    "collapsed": true
   },
   "outputs": [],
   "source": [
    "#FUNCTION B: loads a file of .json-format, in order to read the \"text input\"-value and to modify it. \n",
    "def read_json_metadata():\n",
    "    global robot_metadata\n",
    "    global text_for_spacy\n",
    "    global received_data\n",
    "    #with open(json_schema, 'r+') as robot_metadata:\n",
    "    #received_data = json.load(robot_metadata)\n",
    "    text_from_json = received_data[\"metadata\"][\"input_text\"]\n",
    "    if text_from_json != 'None':\n",
    "        received_data[\"metadata\"][\"input_text\"] = text_for_pipeline\n",
    "        text_for_spacy = received_data[\"metadata\"][\"input_text\"]\n",
    "        robot_metadata.seek(0)\n",
    "        robot_metadata.write(json.dumps(received_data))\n",
    "        robot_metadata.truncate()\n",
    "        print('Text voor SpaCy:', text_for_spacy)"
   ]
  },
  {
   "cell_type": "code",
   "execution_count": 13,
   "metadata": {
    "collapsed": true
   },
   "outputs": [],
   "source": [
    "#FUNCTIONC: Extracts all the entities and appends them to the entity categories in the json metadata\n",
    "#object: GPE = Location, ORG = Organization and PERSON.\n",
    "def semantic_processing():\n",
    "    for entity in doc.ents:\n",
    "        if entity.label_ == 'GPE':\n",
    "            received_data['semantic']['places'].append(str(entity))\n",
    "            #print(entity, entity.label_)\n",
    "        if entity.label_ == 'ORG':\n",
    "            received_data['semantic']['organisations'].append(str(entity))\n",
    "            #print(entity, entity.label_)\n",
    "        if entity.label_ == 'PERSON':\n",
    "            received_data['semantic']['people'].append(str(entity))\n",
    "            #print(entity, entity.label_)           \n",
    "        robot_metadata.seek(0)\n",
    "        robot_metadata.write(json.dumps(received_data))\n",
    "        robot_metadata.truncate()"
   ]
  },
  {
   "cell_type": "code",
   "execution_count": 30,
   "metadata": {
    "collapsed": false
   },
   "outputs": [
    {
     "ename": "TypeError",
     "evalue": "'builtin_function_or_method' object is not iterable",
     "output_type": "error",
     "traceback": [
      "\u001b[0;31m---------------------------------------------------------------------------\u001b[0m",
      "\u001b[0;31mTypeError\u001b[0m                                 Traceback (most recent call last)",
      "\u001b[0;32m<ipython-input-30-6b054f173470>\u001b[0m in \u001b[0;36m<module>\u001b[0;34m()\u001b[0m\n\u001b[0;32m----> 1\u001b[0;31m \u001b[0;32mfor\u001b[0m \u001b[0mx\u001b[0m \u001b[0;32min\u001b[0m \u001b[0mdoc\u001b[0m\u001b[0;34m.\u001b[0m\u001b[0mmem\u001b[0m\u001b[0;34m.\u001b[0m\u001b[0mown_pyref\u001b[0m\u001b[0;34m:\u001b[0m\u001b[0;34m\u001b[0m\u001b[0m\n\u001b[0m\u001b[1;32m      2\u001b[0m     \u001b[0mprint\u001b[0m\u001b[0;34m(\u001b[0m\u001b[0mx\u001b[0m\u001b[0;34m)\u001b[0m\u001b[0;34m\u001b[0m\u001b[0m\n",
      "\u001b[0;31mTypeError\u001b[0m: 'builtin_function_or_method' object is not iterable"
     ]
    }
   ],
   "source": [
    "for x in doc.0\n",
    "    print(x)"
   ]
  },
  {
   "cell_type": "code",
   "execution_count": 14,
   "metadata": {
    "collapsed": false
   },
   "outputs": [],
   "source": [
    "def create_dict_of_words_vs_postags():\n",
    "    global dict_of_words\n",
    "    dict_of_words = {}\n",
    "    for word in doc:\n",
    "        dict_of_words[word.string] = word.tag_"
   ]
  },
  {
   "cell_type": "code",
   "execution_count": 15,
   "metadata": {
    "collapsed": false
   },
   "outputs": [],
   "source": [
    "#CREATES A FUNCTION THAT GENERATES A DICTIONARY OF CONTENT WORD (EMOTION?)\n",
    "def create_dict_of_content_words():\n",
    "    global dict_of_content_words\n",
    "    dict_of_content_words = {}\n",
    "    for word in doc:\n",
    "        if 'NN' in word.tag_:\n",
    "            dict_of_content_words[word.string] = word.tag_\n",
    "        if 'VB' in word.tag_:\n",
    "            dict_of_content_words[word.string] = word.tag_\n",
    "        if 'JJ' in word.tag_:\n",
    "            dict_of_content_words[word.string] = word.tag_\n",
    "        if 'RB' in word.tag_:\n",
    "            dict_of_content_words[word.string] = word.tag_      "
   ]
  },
  {
   "cell_type": "code",
   "execution_count": null,
   "metadata": {
    "collapsed": true
   },
   "outputs": [],
   "source": [
    "#EMOTIONTAGGER: A FUNCTION THAT CALLS THE EMOTIONTAGGER (VOSSEN) VIA A .sh SCRIPT / A .java/.lib FILE"
   ]
  },
  {
   "cell_type": "code",
   "execution_count": 16,
   "metadata": {
    "collapsed": false
   },
   "outputs": [],
   "source": [
    "#STRUCTURAL PROCESSOR (FUNCTION) NEEDS TO BE DEFINED\n",
    "def structural_processor(): \n",
    "    received_data['structure']['wordcount'] = int(len(dict_of_words))\n",
    "    for sent in doc.sents:\n",
    "        received_data['structure']['number_of_sentences'] += 1    \n",
    "    for word in doc:      \n",
    "        if 'JJ' in word.tag_:\n",
    "            received_data['structure']['adjective_count'] += 1 \n",
    "        if 'RB' in word.tag_:\n",
    "            received_data['structure']['adverbs'] += 1\n",
    "        if 'PRP' in word.tag_:\n",
    "            received_data['structure']['personal_pronouns'] += 1\n",
    "        if 'VBD' in word.tag_:\n",
    "            received_data['structure']['non_future'] += 1\n",
    "        if 'VBN' in word.tag_:\n",
    "            received_data['structure']['non_future'] += 1\n",
    "        if 'VB' in word.tag_: \n",
    "            received_data['structure']['future'] += 1\n",
    "        if 'VBG' in word.tag_:\n",
    "            received_data['structure']['future'] += 1            \n",
    "        if 'VBP' in word.tag_: \n",
    "            received_data['structure']['future'] += 1\n",
    "        if 'VBZ' in word.tag_:  \n",
    "            received_data['structure']['future'] += 1\n",
    "        robot_metadata.seek(0)\n",
    "        robot_metadata.write(json.dumps(received_data))\n",
    "        robot_metadata.truncate()\n",
    "\n",
    "    for dependancy in doc:\n",
    "        if dependancy.dep_ == 'neg':\n",
    "            received_data['structure']['negations'] += 1\n",
    "        if dependancy.dep_ == 'prep':\n",
    "            received_data['structure']['prepositional_phrases_count'] += 1\n",
    "        if dependancy.dep_ == 'aux':\n",
    "            received_data['structure']['active_sentences'] += 1\n",
    "        if dependancy.dep_ == 'auxpass':\n",
    "            received_data['structure']['passive_sentences'] += 1\n",
    "        robot_metadata.seek(0)\n",
    "        robot_metadata.write(json.dumps(received_data))\n",
    "        robot_metadata.truncate()\n",
    "\n",
    "#WORDLENGTH MISSING"
   ]
  },
  {
   "cell_type": "code",
   "execution_count": 17,
   "metadata": {
    "collapsed": false
   },
   "outputs": [
    {
     "ename": "TypeError",
     "evalue": "structure_processor() missing 1 required positional argument: 'text'",
     "output_type": "error",
     "traceback": [
      "\u001b[0;31m---------------------------------------------------------------------------\u001b[0m",
      "\u001b[0;31mTypeError\u001b[0m                                 Traceback (most recent call last)",
      "\u001b[0;32m<ipython-input-17-e8a43f806537>\u001b[0m in \u001b[0;36m<module>\u001b[0;34m()\u001b[0m\n\u001b[1;32m      6\u001b[0m     \u001b[0mprint\u001b[0m\u001b[0;34m(\u001b[0m\u001b[0mresult\u001b[0m\u001b[0;34m)\u001b[0m\u001b[0;34m\u001b[0m\u001b[0m\n\u001b[1;32m      7\u001b[0m     \u001b[0;32mreturn\u001b[0m \u001b[0mresult\u001b[0m\u001b[0;34m\u001b[0m\u001b[0m\n\u001b[0;32m----> 8\u001b[0;31m \u001b[0mstructure_processor\u001b[0m\u001b[0;34m(\u001b[0m\u001b[0;34m)\u001b[0m\u001b[0;34m\u001b[0m\u001b[0m\n\u001b[0m\u001b[1;32m      9\u001b[0m \u001b[0;31m# MvE to do: output it to the right json format\u001b[0m\u001b[0;34m\u001b[0m\u001b[0;34m\u001b[0m\u001b[0m\n",
      "\u001b[0;31mTypeError\u001b[0m: structure_processor() missing 1 required positional argument: 'text'"
     ]
    }
   ],
   "source": [
    "#READABILITY FUNCT\n",
    "import readability \n",
    "text = \"We are looking for Richard Franzen, an American who has built a robot, he resides in Tagoyashi.\"\n",
    "def structure_processor(text):\n",
    "    result = readability.getmeasures(text)\n",
    "    print(result)\n",
    "    return result  \n",
    "structure_processor()\n",
    "# MvE to do: output it to the right json format "
   ]
  },
  {
   "cell_type": "code",
   "execution_count": null,
   "metadata": {
    "collapsed": true
   },
   "outputs": [],
   "source": [
    "#MAYBE A CLEANUP FUNCTION FOR POSTPROCESSING (DEMO) CAN BE USEFUL. MUST BE A SELECT \n",
    "#CLEANING OF KEY-VALUES.... TO BE DECIDED YET\n",
    "def metadata_cleaning():\n",
    "    print('Clean it up!')"
   ]
  },
  {
   "cell_type": "code",
   "execution_count": 18,
   "metadata": {
    "collapsed": false
   },
   "outputs": [
    {
     "name": "stdout",
     "output_type": "stream",
     "text": [
      "sample_input.json\n"
     ]
    }
   ],
   "source": [
    "#ENTER THE NAME OF DEMO INPUT FILE: sample_input.json\n",
    "def demos_file():\n",
    "    global filename_widget\n",
    "    filename_widget = widgets.Text()\n",
    "    display(filename_widget)\n",
    "    def handle_submit(sender):\n",
    "        print(filename_widget.value)        \n",
    "    filename_widget.on_submit(handle_submit)\n",
    "demos_file()"
   ]
  },
  {
   "cell_type": "code",
   "execution_count": 19,
   "metadata": {
    "collapsed": false
   },
   "outputs": [
    {
     "name": "stdout",
     "output_type": "stream",
     "text": [
      "We are looking for Richard Franzen an American who has built a robot.  He resides in Tagoyashi..\n"
     ]
    }
   ],
   "source": [
    "#ENTER THE NAME OF DEMO INPUT FILE: We are looking for Richard Franzen an American who has built a robot.\n",
    "################################### He resides in Tagoyashi.\n",
    "def demos_text():\n",
    "    global text_widget\n",
    "    text_widget = widgets.Text()\n",
    "    display(text_widget)\n",
    "    def handle_submit(sender):\n",
    "        print(text_widget.value)        \n",
    "    text_widget.on_submit(handle_submit)\n",
    "demos_text()"
   ]
  },
  {
   "cell_type": "code",
   "execution_count": 20,
   "metadata": {
    "collapsed": false
   },
   "outputs": [
    {
     "name": "stdout",
     "output_type": "stream",
     "text": [
      "sample_input.json\n",
      "Text voor SpaCy: We are looking for Richard Franzen an American who has built a robot.  He resides in Tagoyashi..\n"
     ]
    }
   ],
   "source": [
    "#PROCESSING SEQUENCE 1: Execute all defined the functions\n",
    "#metadata_cleaning() ---function not defined yet\n",
    "select_metadata()\n",
    "with open(metadata, 'r+') as robot_metadata:  \n",
    "    select_text_input()\n",
    "    received_data = json.load(robot_metadata)\n",
    "    read_json_metadata()\n",
    "    global doc\n",
    "    doc = nlp(text_for_spacy)\n",
    "    semantic_processing()\n",
    "    #entity_linking()  ---function not defined yet\n",
    "    create_dict_of_words_vs_postags()\n",
    "    create_dict_of_content_words() \n",
    "    structural_processor()\n",
    "    #emotion_processing  ---function not defined yet\n",
    "#SOME MISSING FUNCTIONS"
   ]
  },
  {
   "cell_type": "code",
   "execution_count": null,
   "metadata": {
    "collapsed": true
   },
   "outputs": [],
   "source": []
  },
  {
   "cell_type": "code",
   "execution_count": null,
   "metadata": {
    "collapsed": true
   },
   "outputs": [],
   "source": []
  }
 ],
 "metadata": {
  "kernelspec": {
   "display_name": "Python 3",
   "language": "python",
   "name": "python3"
  },
  "language_info": {
   "codemirror_mode": {
    "name": "ipython",
    "version": 3
   },
   "file_extension": ".py",
   "mimetype": "text/x-python",
   "name": "python",
   "nbconvert_exporter": "python",
   "pygments_lexer": "ipython3",
   "version": "3.5.1"
  },
  "widgets": {
   "state": {
    "38b66d3c85d94460b4d6a856cad2ef19": {
     "views": [
      {
       "cell_index": 9
      }
     ]
    },
    "ddc5a42b9e4d486f98e113980b82762d": {
     "views": [
      {
       "cell_index": 8
      }
     ]
    }
   },
   "version": "1.2.0"
  }
 },
 "nbformat": 4,
 "nbformat_minor": 0
}
