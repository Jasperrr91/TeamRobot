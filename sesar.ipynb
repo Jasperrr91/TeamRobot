{
 "cells": [
  {
   "cell_type": "code",
   "execution_count": 2,
   "metadata": {
    "collapsed": false
   },
   "outputs": [],
   "source": [
    "import spacy\n",
    "import json\n",
    "import sys\n",
    "import os\n",
    "import IPython\n",
    "from ipywidgets import widgets\n",
    "from IPython.display import display"
   ]
  },
  {
   "cell_type": "code",
   "execution_count": 3,
   "metadata": {
    "collapsed": true
   },
   "outputs": [],
   "source": [
    "nlp = spacy.load('en')   "
   ]
  },
  {
   "cell_type": "code",
   "execution_count": 4,
   "metadata": {
    "collapsed": false
   },
   "outputs": [],
   "source": [
    "def select_metadata():\n",
    "    global metadata\n",
    "    metadata = str(sys.argv[1:])\n",
    "    if \"-f\" in metadata:\n",
    "        metadata = filename_widget.value\n",
    "        print(metadata)\n",
    "    else:\n",
    "        filename_clean = metadata.replace(\"[\",\"\")\n",
    "        filename_cleaner = filename_clean.replace(\"'\",\"\")\n",
    "        metadata = filename_cleaner.replace(\"]\",\"\")\n",
    "        return metadata    "
   ]
  },
  {
   "cell_type": "code",
   "execution_count": 5,
   "metadata": {
    "collapsed": false
   },
   "outputs": [],
   "source": [
    "#FUNCTION A: creates a text input from an argument which has to be typed in the following form:\n",
    "#################  \"Hello, this is a new sentence. And this is a newer one\"\n",
    "def select_text_input():\n",
    "    global text_for_pipeline\n",
    "    text_from_commandline = str(sys.argv[2:])\n",
    "    if \"/\" in text_from_commandline:\n",
    "        text_for_pipeline = text_widget.value\n",
    "        print(text_for_pipeline)\n",
    "    elif text_from_commandline:\n",
    "        text_clean = text_from_commandline.replace(\"[\",\"\")\n",
    "        text_cleaner = text_clean.replace(\"'\",\"\")\n",
    "        text_for_pipeline = text_cleaner.replace(\"]\",\"\")\n",
    "        return text_for_pipeline"
   ]
  },
  {
   "cell_type": "code",
   "execution_count": 6,
   "metadata": {
    "collapsed": true
   },
   "outputs": [],
   "source": [
    "#FUNCTION B: loads a file of .json-format, in order to read the \"text input\"-value and to modify it. \n",
    "def read_json_metadata():\n",
    "    global robot_metadata\n",
    "    global text_for_spacy\n",
    "    global received_data\n",
    "    #with open(json_schema, 'r+') as robot_metadata:\n",
    "    #received_data = json.load(robot_metadata)\n",
    "    text_from_json = received_data[\"metadata\"][\"input_text\"]\n",
    "    if text_from_json != 'None':\n",
    "        received_data[\"metadata\"][\"input_text\"] = text_for_pipeline\n",
    "        text_for_spacy = received_data[\"metadata\"][\"input_text\"]\n",
    "        robot_metadata.seek(0)\n",
    "        robot_metadata.write(json.dumps(received_data))\n",
    "        robot_metadata.truncate()\n",
    "        print('Text voor SpaCy:', text_for_spacy)"
   ]
  },
  {
   "cell_type": "code",
   "execution_count": 7,
   "metadata": {
    "collapsed": true
   },
   "outputs": [],
   "source": [
    "#FUNCTION C: Extracts all the entities and appends them to the 3 categories of entities in the json metadata\n",
    "#object: GPE = Location, ORG = Organization and PERSON.\n",
    "def semantic_processing():\n",
    "    for entity in doc.ents:\n",
    "        if entity.label_ == 'GPE':\n",
    "            received_data['semantic']['places'].append(str(entity))\n",
    "            #print(entity, entity.label_)\n",
    "        if entity.label_ == 'ORG':\n",
    "            received_data['semantic']['organisations'].append(str(entity))\n",
    "            #print(entity, entity.label_)\n",
    "        if entity.label_ == 'PERSON':\n",
    "            received_data['semantic']['people'].append(str(entity))\n",
    "            #print(entity, entity.label_)\n",
    "            robot_metadata.seek(0)\n",
    "            robot_metadata.write(json.dumps(received_data))\n",
    "            robot_metadata.truncate()"
   ]
  },
  {
   "cell_type": "code",
   "execution_count": 8,
   "metadata": {
    "collapsed": false
   },
   "outputs": [],
   "source": [
    "def create_dict_of_words():\n",
    "    global dict_of_words\n",
    "    dict_of_words = {}\n",
    "    for word in doc:\n",
    "        dict_of_words[word.string] = word.tag_\n",
    "    print(dict_of_words)"
   ]
  },
  {
   "cell_type": "code",
   "execution_count": 9,
   "metadata": {
    "collapsed": false
   },
   "outputs": [],
   "source": [
    "def create_dict_of_content_words():\n",
    "    global dict_of_content_words\n",
    "    dict_of_content_words = {}\n",
    "    for word in doc:\n",
    "        if 'NN' in word.tag_:\n",
    "            dict_of_content_words[word.string] = word.tag_\n",
    "        if 'VB' in word.tag_:\n",
    "            dict_of_content_words[word.string] = word.tag_\n",
    "        if 'JJ' in word.tag_:\n",
    "            dict_of_content_words[word.string] = word.tag_\n",
    "        if 'RB' in word.tag_:\n",
    "            dict_of_content_words[word.string] = word.tag_\n"
   ]
  },
  {
   "cell_type": "code",
   "execution_count": 11,
   "metadata": {
    "collapsed": false
   },
   "outputs": [
    {
     "name": "stdout",
     "output_type": "stream",
     "text": [
      "We are looking for Richard Franzen, an American who has built a robot, he resides in Tagoyashi.\n"
     ]
    }
   ],
   "source": [
    "#DEMO INPUT: sample_input.json\n",
    "def demos_file():\n",
    "    global filename_widget\n",
    "    filename_widget = widgets.Text()\n",
    "    display(filename_widget)\n",
    "    def handle_submit(sender):\n",
    "        print(filename_widget.value)        \n",
    "    filename_widget.on_submit(handle_submit)\n",
    "demos_file()"
   ]
  },
  {
   "cell_type": "code",
   "execution_count": 12,
   "metadata": {
    "collapsed": false
   },
   "outputs": [],
   "source": [
    "#DEMO INPUT: We are looking for Richard Franzen, an American who has built a robot, he resides in Tagoyashi.\n",
    "def demos_text():\n",
    "    global text_widget\n",
    "    text_widget = widgets.Text()\n",
    "    display(text_widget)\n",
    "    def handle_submit(sender):\n",
    "        print(text_widget.value)        \n",
    "    text_widget.on_submit(handle_submit)\n",
    "demos_text()"
   ]
  },
  {
   "cell_type": "code",
   "execution_count": 13,
   "metadata": {
    "collapsed": false
   },
   "outputs": [
    {
     "name": "stdout",
     "output_type": "stream",
     "text": [
      "We are looking for Richard Franzen, an American who has built a robot, he resides in Tagoyashi.\n"
     ]
    },
    {
     "ename": "FileNotFoundError",
     "evalue": "[Errno 2] No such file or directory: 'We are looking for Richard Franzen, an American who has built a robot, he resides in Tagoyashi.'",
     "output_type": "error",
     "traceback": [
      "\u001b[0;31m---------------------------------------------------------------------------\u001b[0m",
      "\u001b[0;31mFileNotFoundError\u001b[0m                         Traceback (most recent call last)",
      "\u001b[0;32m<ipython-input-13-953abd54700e>\u001b[0m in \u001b[0;36m<module>\u001b[0;34m()\u001b[0m\n\u001b[1;32m      2\u001b[0m \u001b[0;31m#Process the text with the SpaCy Pipeline\u001b[0m\u001b[0;34m\u001b[0m\u001b[0;34m\u001b[0m\u001b[0m\n\u001b[1;32m      3\u001b[0m \u001b[0mselect_metadata\u001b[0m\u001b[0;34m(\u001b[0m\u001b[0;34m)\u001b[0m\u001b[0;34m\u001b[0m\u001b[0m\n\u001b[0;32m----> 4\u001b[0;31m \u001b[0;32mwith\u001b[0m \u001b[0mopen\u001b[0m\u001b[0;34m(\u001b[0m\u001b[0mmetadata\u001b[0m\u001b[0;34m,\u001b[0m \u001b[0;34m'r+'\u001b[0m\u001b[0;34m)\u001b[0m \u001b[0;32mas\u001b[0m \u001b[0mrobot_metadata\u001b[0m\u001b[0;34m:\u001b[0m\u001b[0;34m\u001b[0m\u001b[0m\n\u001b[0m\u001b[1;32m      5\u001b[0m     \u001b[0mselect_text_input\u001b[0m\u001b[0;34m(\u001b[0m\u001b[0;34m)\u001b[0m\u001b[0;34m\u001b[0m\u001b[0m\n\u001b[1;32m      6\u001b[0m     \u001b[0mreceived_data\u001b[0m \u001b[0;34m=\u001b[0m \u001b[0mjson\u001b[0m\u001b[0;34m.\u001b[0m\u001b[0mload\u001b[0m\u001b[0;34m(\u001b[0m\u001b[0mrobot_metadata\u001b[0m\u001b[0;34m)\u001b[0m\u001b[0;34m\u001b[0m\u001b[0m\n",
      "\u001b[0;31mFileNotFoundError\u001b[0m: [Errno 2] No such file or directory: 'We are looking for Richard Franzen, an American who has built a robot, he resides in Tagoyashi.'"
     ]
    }
   ],
   "source": [
    "#PROCESSING SEQUENCE 1: Execute all defined the functions\n",
    "#Process the text with the SpaCy Pipeline \n",
    "select_metadata()\n",
    "with open(metadata, 'r+') as robot_metadata: \n",
    "    select_text_input()\n",
    "    received_data = json.load(robot_metadata)\n",
    "    read_json_metadata()\n",
    "    global doc\n",
    "    doc = nlp(text_for_spacy)\n",
    "    semantic_processing()\n",
    "    create_dict_of_words()\n",
    "    create_dict_of_content_words()\n",
    "    \n",
    "#MISSING FUNCTIONS"
   ]
  },
  {
   "cell_type": "code",
   "execution_count": null,
   "metadata": {
    "collapsed": true
   },
   "outputs": [],
   "source": [
    "#EXTRACT ALL THE CONTENTWORDS AND ADD THEM TO THE JSON FILE\n",
    "#CREATE THE SAIF MOHAMMED LIBRARY IN JSON FOR EMOTIONS\n",
    "#DO AN EMOTION MAPPING OF THE WORDS"
   ]
  },
  {
   "cell_type": "code",
   "execution_count": null,
   "metadata": {
    "collapsed": false
   },
   "outputs": [],
   "source": [
    "#def emotion_processor():\n",
    "#'emotions': {'detected_emotion': [], 'information_state': []}}\n",
    "\n",
    "#AAN MARIEKE VRAGEN: WAT BEDOEL JE MET EMOTION STATE"
   ]
  },
  {
   "cell_type": "code",
   "execution_count": 19,
   "metadata": {
    "collapsed": false
   },
   "outputs": [
    {
     "name": "stdout",
     "output_type": "stream",
     "text": [
      "OrderedDict([('readability grades', OrderedDict([('Kincaid', 8.39294117647059), ('ARI', 8.126470588235296), ('Coleman-Liau', 8.745160470588239), ('FleschReadingEase', 65.16823529411766), ('GunningFogIndex', 9.15294117647059), ('LIX', 52.294117647058826), ('SMOGIndex', 8.477225575051662), ('RIX', 6.0)])), ('sentence info', OrderedDict([('characters_per_word', 4.470588235294118), ('syll_per_word', 1.4705882352941178), ('words_per_sentence', 17.0), ('sentences_per_paragraph', 1.0), ('type_token_ratio', 1.0), ('characters', 76), ('syllables', 25), ('words', 17), ('wordtypes', 17), ('sentences', 1), ('paragraphs', 1), ('long_words', 6), ('complex_words', 1)])), ('word usage', OrderedDict([('tobeverb', 1), ('auxverb', 0), ('conjunction', 0), ('pronoun', 2), ('preposition', 1), ('nominalization', 0)])), ('sentence beginnings', OrderedDict([('pronoun', 1), ('interrogative', 0), ('article', 0), ('subordination', 0), ('conjunction', 0), ('preposition', 0)]))])\n"
     ]
    }
   ],
   "source": [
    "import readability \n",
    "\n",
    "text = \"We are looking for Richard Franzen, an American who has built a robot, he resides in Tagoyashi.\"\n",
    "def structure_processor(inputtext):\n",
    "    result = readability.getmeasures(text)\n",
    "    return result \n",
    "\n",
    "textstats = structure_processor(text)\n",
    "print(textstats)\n",
    "\n",
    "# MvE to do: output it to the right json format \n",
    "#BUILD A COUNTER FOR:\n",
    "#'future': 0, 'number_of_sentences': 1, 'passive_sentences': 0, 'non_future': \n",
    "#2, 'adjective_count': 1, 'wordcount': 11, 'adverbs': 0, 'active_sentences': \n",
    "#2, 'word_length': 6.09, 'personal_pronouns': 2, 'prepositional_phrases_count': 1, 'negations': 0"
   ]
  },
  {
   "cell_type": "code",
   "execution_count": null,
   "metadata": {
    "collapsed": true
   },
   "outputs": [],
   "source": []
  }
 ],
 "metadata": {
  "kernelspec": {
   "display_name": "Python 3",
   "language": "python",
   "name": "python3"
  },
  "language_info": {
   "codemirror_mode": {
    "name": "ipython",
    "version": 3
   },
   "file_extension": ".py",
   "mimetype": "text/x-python",
   "name": "python",
   "nbconvert_exporter": "python",
   "pygments_lexer": "ipython3",
   "version": "3.5.2"
  },
  "widgets": {
   "state": {
    "38b66d3c85d94460b4d6a856cad2ef19": {
     "views": [
      {
       "cell_index": 9
      }
     ]
    },
    "ddc5a42b9e4d486f98e113980b82762d": {
     "views": [
      {
       "cell_index": 8
      }
     ]
    }
   },
   "version": "1.2.0"
  }
 },
 "nbformat": 4,
 "nbformat_minor": 0
}
